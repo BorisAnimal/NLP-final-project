{
 "cells": [
  {
   "cell_type": "code",
   "execution_count": 2,
   "metadata": {},
   "outputs": [],
   "source": [
    "import pandas as pd\n",
    "from sklearn.feature_extraction.text import CountVectorizer\n",
    "from sklearn.naive_bayes import MultinomialNB\n",
    "\n",
    "from src.vars import *"
   ]
  },
  {
   "cell_type": "markdown",
   "metadata": {},
   "source": [
    "### data"
   ]
  },
  {
   "cell_type": "code",
   "execution_count": 41,
   "metadata": {},
   "outputs": [],
   "source": [
    "train_input = pd.read_csv(train_file, sep='\\t')\n",
    "\n",
    "X_train = train_input['tweet'].values\n",
    "y_train = train_input[label_column]\n",
    "\n",
    "## Categorical to int\n",
    "uniq = set(y_train)\n",
    "mapping = dict([(k,v) for v,k in enumerate(uniq)])\n",
    "y_train = y_train.apply(lambda r: mapping[r])\n",
    "\n",
    "cv = CountVectorizer()\n",
    "X_train = cv.fit_transform(X_train)"
   ]
  },
  {
   "cell_type": "markdown",
   "metadata": {},
   "source": [
    "### train"
   ]
  },
  {
   "cell_type": "code",
   "execution_count": 42,
   "metadata": {},
   "outputs": [],
   "source": [
    "# I kept preprocessing the same as for the rest models\n",
    "# Alternative preprocessing arguments:\n",
    "#     strip_accents='ascii', token_pattern=u'(?ui)\\\\b\\\\w*[a-z]+\\\\w*\\\\b', lowercase=True, stop_words='english'\n",
    "model = MultinomialNB() \n",
    "\n",
    "model = model.fit(X_train, y_train)"
   ]
  },
  {
   "cell_type": "markdown",
   "metadata": {},
   "source": [
    "### Test data"
   ]
  },
  {
   "cell_type": "code",
   "execution_count": 43,
   "metadata": {},
   "outputs": [],
   "source": [
    "testX = pd.read_csv(\"data/testset-levela.tsv\", sep='\\t', index_col='id')['tweet'].values\n",
    "testX = cv.transform(testX)\n",
    "testY = pd.read_csv(\"data/labels-levela.csv\", index_col=0, header=None)[1].apply(lambda r: mapping[r]).values\n",
    "\n",
    "y_pred = model.predict(testX)"
   ]
  },
  {
   "cell_type": "code",
   "execution_count": 44,
   "metadata": {},
   "outputs": [
    {
     "name": "stdout",
     "output_type": "stream",
     "text": [
      "Accuracy score: 0.7977\n",
      "Precision score: 0.8389\n",
      "Recall score: 0.8903\n"
     ]
    }
   ],
   "source": [
    "from sklearn.metrics import accuracy_score, precision_score, recall_score\n",
    "print(\"Accuracy score: {:.4f}\".format(accuracy_score(testY, y_pred)))\n",
    "print(\"Precision score: {:.4f}\".format(precision_score(testY, y_pred)))\n",
    "print(\"Recall score: {:.4f}\".format(recall_score(testY, y_pred)))"
   ]
  }
 ],
 "metadata": {
  "kernelspec": {
   "display_name": "ML",
   "language": "python",
   "name": "ml"
  },
  "language_info": {
   "codemirror_mode": {
    "name": "ipython",
    "version": 3
   },
   "file_extension": ".py",
   "mimetype": "text/x-python",
   "name": "python",
   "nbconvert_exporter": "python",
   "pygments_lexer": "ipython3",
   "version": "3.7.4"
  }
 },
 "nbformat": 4,
 "nbformat_minor": 2
}
